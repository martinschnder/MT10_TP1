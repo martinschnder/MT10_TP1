{
 "cells": [
  {
   "cell_type": "code",
   "execution_count": 4,
   "id": "b053c6bd",
   "metadata": {},
   "outputs": [],
   "source": [
    "C4 = CyclicPermutationGroup(4)"
   ]
  },
  {
   "cell_type": "code",
   "execution_count": 5,
   "id": "8f140305",
   "metadata": {},
   "outputs": [],
   "source": [
    "T_C4 = C4.cayley_table()"
   ]
  },
  {
   "cell_type": "code",
   "execution_count": 6,
   "id": "f566877d",
   "metadata": {},
   "outputs": [],
   "source": [
    "t_C4 = T_C4.table()"
   ]
  },
  {
   "cell_type": "code",
   "execution_count": 7,
   "id": "0b5fd70c",
   "metadata": {},
   "outputs": [],
   "source": [
    "C2 = CyclicPermutationGroup(2)"
   ]
  },
  {
   "cell_type": "code",
   "execution_count": 8,
   "id": "ed5c0d50",
   "metadata": {},
   "outputs": [],
   "source": [
    "C2C2 = cartesian_product([C2, C2])"
   ]
  },
  {
   "cell_type": "code",
   "execution_count": 9,
   "id": "c60a01ec",
   "metadata": {},
   "outputs": [],
   "source": [
    "T_C2C2 = C2C2.cayley_table()"
   ]
  },
  {
   "cell_type": "code",
   "execution_count": 10,
   "id": "a3c17a4d",
   "metadata": {},
   "outputs": [],
   "source": [
    "t_C2C2 = T_C2C2.table()"
   ]
  },
  {
   "cell_type": "code",
   "execution_count": 11,
   "id": "da1fa769",
   "metadata": {},
   "outputs": [
    {
     "data": {
      "text/plain": [
       "[[0, 1, 2, 3], [1, 0, 3, 2], [2, 3, 0, 1], [3, 2, 1, 0]]"
      ]
     },
     "execution_count": 11,
     "metadata": {},
     "output_type": "execute_result"
    }
   ],
   "source": [
    "t_C2C2"
   ]
  },
  {
   "cell_type": "code",
   "execution_count": 2,
   "id": "41cafa40",
   "metadata": {},
   "outputs": [],
   "source": [
    "def test_neutral(t):\n",
    "    for i in range(len(t)):\n",
    "        neutral = true\n",
    "        for j in range(len(t)):\n",
    "            if t[i][j] != j or t[j][i] != j:\n",
    "                neutral = false\n",
    "        if neutral == true:\n",
    "            return i"
   ]
  },
  {
   "cell_type": "code",
   "execution_count": 3,
   "id": "23b96921",
   "metadata": {},
   "outputs": [],
   "source": [
    "def symetric(t):\n",
    "    for i in range(len(t)):\n",
    "        sym = false\n",
    "        for j in range(len(t)):\n",
    "            if t[i][j] == t[j][i]:\n",
    "                sym = true\n",
    "                print((i, j))"
   ]
  },
  {
   "cell_type": "code",
   "execution_count": 12,
   "id": "b7734af7",
   "metadata": {},
   "outputs": [],
   "source": [
    "def associativity(t):\n",
    "    ass = true\n",
    "    for i in range(len(t)):\n",
    "        for j in range(len(t)):\n",
    "            for k in range(len(t)):\n",
    "                if t[t[i][j]][k] != t[i][t[j][k]]:\n",
    "                    ass = false\n",
    "                    break\n",
    "    return ass"
   ]
  },
  {
   "cell_type": "code",
   "execution_count": 13,
   "id": "4c3424b6",
   "metadata": {},
   "outputs": [
    {
     "data": {
      "text/plain": [
       "True"
      ]
     },
     "execution_count": 13,
     "metadata": {},
     "output_type": "execute_result"
    }
   ],
   "source": [
    "associativity(t_C2C2)"
   ]
  },
  {
   "cell_type": "code",
   "execution_count": 14,
   "id": "9448217f",
   "metadata": {},
   "outputs": [
    {
     "ename": "AttributeError",
     "evalue": "'list' object has no attribute 'is_associative'",
     "output_type": "error",
     "traceback": [
      "\u001b[0;31m---------------------------------------------------------------------------\u001b[0m",
      "\u001b[0;31mAttributeError\u001b[0m                            Traceback (most recent call last)",
      "Input \u001b[0;32mIn [14]\u001b[0m, in \u001b[0;36m<cell line: 1>\u001b[0;34m()\u001b[0m\n\u001b[0;32m----> 1\u001b[0m \u001b[43mt_C2C2\u001b[49m\u001b[38;5;241;43m.\u001b[39;49m\u001b[43mis_associative\u001b[49m()\n",
      "\u001b[0;31mAttributeError\u001b[0m: 'list' object has no attribute 'is_associative'"
     ]
    }
   ],
   "source": [
    "t_C2C2.is_associative()"
   ]
  },
  {
   "cell_type": "code",
   "execution_count": 15,
   "id": "6a1d4dfe",
   "metadata": {},
   "outputs": [],
   "source": [
    "def morphisme(f, t1, t2):\n",
    "    morp = true\n",
    "    for i in range(len(t1)):\n",
    "        for j in range(len(t1)):\n",
    "                if f[t1[i][j]] != t2[f[i]][f[j]]:\n",
    "                    morp = false\n",
    "                    break\n",
    "    return morp"
   ]
  },
  {
   "cell_type": "code",
   "execution_count": 20,
   "id": "c887a6a9",
   "metadata": {},
   "outputs": [
    {
     "name": "stdout",
     "output_type": "stream",
     "text": [
      "None\n"
     ]
    }
   ],
   "source": [
    "print(C2C2._test_associativity())"
   ]
  },
  {
   "cell_type": "code",
   "execution_count": 28,
   "id": "f1739c19",
   "metadata": {},
   "outputs": [],
   "source": [
    "C4._test_elements_eq_symmetric(elements = C4)"
   ]
  },
  {
   "cell_type": "code",
   "execution_count": 29,
   "id": "95cb55d8",
   "metadata": {},
   "outputs": [
    {
     "name": "stdout",
     "output_type": "stream",
     "text": [
      "running ._test_an_element() . . . pass\n",
      "running ._test_associativity() . . . pass\n",
      "running ._test_cardinality() . . . pass\n",
      "running ._test_category() . . . pass\n",
      "running ._test_construction() . . . pass\n",
      "running ._test_elements() . . .\n",
      "  Running the test suite of self.an_element()\n",
      "  running ._test_category() . . . pass\n",
      "  running ._test_eq() . . . pass\n",
      "  running ._test_new() . . . pass\n",
      "  running ._test_not_implemented_methods() . . . pass\n",
      "  running ._test_pickling() . . . pass\n",
      "  pass\n",
      "running ._test_elements_eq_reflexive() . . . pass\n",
      "running ._test_elements_eq_symmetric() . . . pass\n",
      "running ._test_elements_eq_transitive() . . . pass\n",
      "running ._test_elements_neq() . . . pass\n",
      "running ._test_enumerated_set_contains() . . . pass\n",
      "running ._test_enumerated_set_iter_cardinality() . . . pass\n",
      "running ._test_enumerated_set_iter_list() . . . pass\n",
      "running ._test_eq() . . . pass\n",
      "running ._test_inverse() . . . pass\n",
      "running ._test_new() . . . pass\n",
      "running ._test_not_implemented_methods() . . . pass\n",
      "running ._test_one() . . . pass\n",
      "running ._test_pickling() . . . pass\n",
      "running ._test_prod() . . . pass\n",
      "running ._test_some_elements() . . . pass\n"
     ]
    }
   ],
   "source": [
    "TestSuite(C4).run(verbose = true)"
   ]
  },
  {
   "cell_type": "code",
   "execution_count": null,
   "id": "c7126d26",
   "metadata": {},
   "outputs": [],
   "source": []
  }
 ],
 "metadata": {
  "kernelspec": {
   "display_name": "SageMath 9.5",
   "language": "sage",
   "name": "sagemath"
  },
  "language_info": {
   "codemirror_mode": {
    "name": "ipython",
    "version": 3
   },
   "file_extension": ".py",
   "mimetype": "text/x-python",
   "name": "python",
   "nbconvert_exporter": "python",
   "pygments_lexer": "ipython3",
   "version": "3.10.4"
  }
 },
 "nbformat": 4,
 "nbformat_minor": 5
}
